{
 "cells": [
  {
   "cell_type": "markdown",
   "metadata": {},
   "source": [
    "---\n",
    "\n",
    "#  Examples using Package `pdpolygonapi`\n",
    "\n",
    "---\n"
   ]
  },
  {
   "cell_type": "code",
   "execution_count": 1,
   "metadata": {},
   "outputs": [],
   "source": [
    "from IPython.core.interactiveshell import InteractiveShell\n",
    "InteractiveShell.ast_node_interactivity = \"all\""
   ]
  },
  {
   "cell_type": "code",
   "execution_count": null,
   "metadata": {},
   "outputs": [],
   "source": []
  },
  {
   "cell_type": "code",
   "execution_count": null,
   "metadata": {},
   "outputs": [],
   "source": []
  },
  {
   "cell_type": "code",
   "execution_count": 2,
   "metadata": {},
   "outputs": [],
   "source": [
    "%matplotlib inline\n",
    "#%matplotlib qt\n",
    "import pandas as pd\n",
    "import mplfinance as mpf\n",
    "#import yfinance as yf"
   ]
  },
  {
   "cell_type": "code",
   "execution_count": 3,
   "metadata": {},
   "outputs": [],
   "source": [
    "# import requests\n",
    "# import datetime\n",
    "# # import numpy as np\n",
    "# # import warnings\n",
    "# import os\n",
    "# APIKEY=os.environ.get('POLYGON_API')"
   ]
  },
  {
   "cell_type": "code",
   "execution_count": 1,
   "metadata": {},
   "outputs": [],
   "source": [
    "import pdpolygonapi"
   ]
  },
  {
   "cell_type": "code",
   "execution_count": 2,
   "metadata": {},
   "outputs": [
    {
     "data": {
      "text/plain": [
       "['PolygonApi',\n",
       " '_PolygonApiBase',\n",
       " '__builtins__',\n",
       " '__cached__',\n",
       " '__doc__',\n",
       " '__file__',\n",
       " '__loader__',\n",
       " '__name__',\n",
       " '__package__',\n",
       " '__path__',\n",
       " '__spec__',\n",
       " '_pdpolygonapi_base',\n",
       " 'pdpolygonapi']"
      ]
     },
     "execution_count": 2,
     "metadata": {},
     "output_type": "execute_result"
    }
   ],
   "source": [
    "dir(pdpolygonapi)"
   ]
  },
  {
   "cell_type": "code",
   "execution_count": null,
   "metadata": {},
   "outputs": [],
   "source": []
  },
  {
   "cell_type": "code",
   "execution_count": 1,
   "metadata": {},
   "outputs": [],
   "source": [
    "from pdpolygonapi import PolygonApi"
   ]
  },
  {
   "cell_type": "code",
   "execution_count": 3,
   "metadata": {},
   "outputs": [
    {
     "data": {
      "text/plain": [
       "['OptionsChain',\n",
       " '_OHLCV_COLMAP',\n",
       " '__class__',\n",
       " '__delattr__',\n",
       " '__dict__',\n",
       " '__dir__',\n",
       " '__doc__',\n",
       " '__eq__',\n",
       " '__format__',\n",
       " '__ge__',\n",
       " '__getattribute__',\n",
       " '__gt__',\n",
       " '__hash__',\n",
       " '__init__',\n",
       " '__init_subclass__',\n",
       " '__le__',\n",
       " '__lt__',\n",
       " '__module__',\n",
       " '__ne__',\n",
       " '__new__',\n",
       " '__reduce__',\n",
       " '__reduce_ex__',\n",
       " '__repr__',\n",
       " '__setattr__',\n",
       " '__sizeof__',\n",
       " '__str__',\n",
       " '__subclasshook__',\n",
       " '__weakref__',\n",
       " '_input_to_datetime',\n",
       " '_input_to_mstimestamp',\n",
       " '_json_response_to_ohlcvdf',\n",
       " '_req_get_json',\n",
       " 'fetch_ohlcvdf',\n",
       " 'fetch_options_chain',\n",
       " 'fetch_quotes']"
      ]
     },
     "execution_count": 3,
     "metadata": {},
     "output_type": "execute_result"
    }
   ],
   "source": [
    "dir(PolygonApi)"
   ]
  },
  {
   "cell_type": "code",
   "execution_count": 3,
   "metadata": {},
   "outputs": [],
   "source": [
    "polygon = pdpolygonapi.PolygonApi(envkey='POLYGON_API')"
   ]
  },
  {
   "cell_type": "code",
   "execution_count": 6,
   "metadata": {},
   "outputs": [
    {
     "name": "stdout",
     "output_type": "stream",
     "text": [
      "req=\n",
      " https://api.polygon.io/v3/reference/options/contracts?underlying_ticker=SPY&expired=true&expiration_date.gte=2022-03-01&expiration_date.lte=2023-08-01&limit=1000&apiKey=***\n",
      "......................................................................................."
     ]
    }
   ],
   "source": [
    "start_date = '2022-03-01'\n",
    "end_date   = '2023-08-01'\n",
    "opchain    = polygon.fetch_options_chain('SPY',start_date,end_date)"
   ]
  },
  {
   "cell_type": "code",
   "execution_count": 7,
   "metadata": {},
   "outputs": [
    {
     "data": {
      "text/plain": [
       "'SPY'"
      ]
     },
     "execution_count": 7,
     "metadata": {},
     "output_type": "execute_result"
    },
    {
     "data": {
      "text/plain": [
       "87920"
      ]
     },
     "execution_count": 7,
     "metadata": {},
     "output_type": "execute_result"
    },
    {
     "data": {
      "text/plain": [
       "290"
      ]
     },
     "execution_count": 7,
     "metadata": {},
     "output_type": "execute_result"
    },
    {
     "data": {
      "text/plain": [
       "290"
      ]
     },
     "execution_count": 7,
     "metadata": {},
     "output_type": "execute_result"
    },
    {
     "name": "stdout",
     "output_type": "stream",
     "text": [
      "expirations\n",
      "get_strikes_by_expiration\n",
      "strikes\n",
      "tickers\n",
      "underlying\n"
     ]
    },
    {
     "data": {
      "text/html": [
       "<div>\n",
       "<style scoped>\n",
       "    .dataframe tbody tr th:only-of-type {\n",
       "        vertical-align: middle;\n",
       "    }\n",
       "\n",
       "    .dataframe tbody tr th {\n",
       "        vertical-align: top;\n",
       "    }\n",
       "\n",
       "    .dataframe thead th {\n",
       "        text-align: right;\n",
       "    }\n",
       "</style>\n",
       "<table border=\"1\" class=\"dataframe\">\n",
       "  <thead>\n",
       "    <tr style=\"text-align: right;\">\n",
       "      <th></th>\n",
       "      <th>Expiration</th>\n",
       "    </tr>\n",
       "  </thead>\n",
       "  <tbody>\n",
       "    <tr>\n",
       "      <th>2022-03-02</th>\n",
       "      <td>2022-03-02</td>\n",
       "    </tr>\n",
       "    <tr>\n",
       "      <th>2022-03-04</th>\n",
       "      <td>2022-03-04</td>\n",
       "    </tr>\n",
       "    <tr>\n",
       "      <th>2022-03-07</th>\n",
       "      <td>2022-03-07</td>\n",
       "    </tr>\n",
       "  </tbody>\n",
       "</table>\n",
       "</div>"
      ],
      "text/plain": [
       "            Expiration\n",
       "2022-03-02  2022-03-02\n",
       "2022-03-04  2022-03-04\n",
       "2022-03-07  2022-03-07"
      ]
     },
     "execution_count": 7,
     "metadata": {},
     "output_type": "execute_result"
    },
    {
     "data": {
      "text/html": [
       "<div>\n",
       "<style scoped>\n",
       "    .dataframe tbody tr th:only-of-type {\n",
       "        vertical-align: middle;\n",
       "    }\n",
       "\n",
       "    .dataframe tbody tr th {\n",
       "        vertical-align: top;\n",
       "    }\n",
       "\n",
       "    .dataframe thead th {\n",
       "        text-align: right;\n",
       "    }\n",
       "</style>\n",
       "<table border=\"1\" class=\"dataframe\">\n",
       "  <thead>\n",
       "    <tr style=\"text-align: right;\">\n",
       "      <th></th>\n",
       "      <th>Expiration</th>\n",
       "    </tr>\n",
       "  </thead>\n",
       "  <tbody>\n",
       "    <tr>\n",
       "      <th>2023-07-28</th>\n",
       "      <td>2023-07-28</td>\n",
       "    </tr>\n",
       "    <tr>\n",
       "      <th>2023-07-31</th>\n",
       "      <td>2023-07-31</td>\n",
       "    </tr>\n",
       "    <tr>\n",
       "      <th>2023-08-01</th>\n",
       "      <td>2023-08-01</td>\n",
       "    </tr>\n",
       "  </tbody>\n",
       "</table>\n",
       "</div>"
      ],
      "text/plain": [
       "            Expiration\n",
       "2023-07-28  2023-07-28\n",
       "2023-07-31  2023-07-31\n",
       "2023-08-01  2023-08-01"
      ]
     },
     "execution_count": 7,
     "metadata": {},
     "output_type": "execute_result"
    }
   ],
   "source": [
    "opchain.underlying\n",
    "len(opchain.tickers)\n",
    "len(opchain.expirations)\n",
    "len(opchain.strikes)\n",
    "for item in dir(opchain):\n",
    "    if item[0] == '_': continue\n",
    "    print(item)\n",
    "\n",
    "opchain.expirations.head(3)\n",
    "opchain.expirations.tail(3)"
   ]
  },
  {
   "cell_type": "code",
   "execution_count": 8,
   "metadata": {},
   "outputs": [
    {
     "name": "stdout",
     "output_type": "stream",
     "text": [
      "dtm= 2023-08-01 23:59:59.099999\n",
      "dtm= 2021-12-26 00:00:00\n",
      "req=\n",
      " https://api.polygon.io/v2/aggs/ticker/SPY/range/1/day/1640476800000/1690948799099?adjusted=true&sort=asc&limit=50000&apiKey=***\n"
     ]
    }
   ],
   "source": [
    "sdt = (pd.Timestamp(start_date) - pd.Timedelta(days=65))\n",
    "spy = polygon.fetch_ohlcvdf('SPY',sdt,end_date)"
   ]
  },
  {
   "cell_type": "code",
   "execution_count": 9,
   "metadata": {},
   "outputs": [
    {
     "data": {
      "text/html": [
       "<div>\n",
       "<style scoped>\n",
       "    .dataframe tbody tr th:only-of-type {\n",
       "        vertical-align: middle;\n",
       "    }\n",
       "\n",
       "    .dataframe tbody tr th {\n",
       "        vertical-align: top;\n",
       "    }\n",
       "\n",
       "    .dataframe thead th {\n",
       "        text-align: right;\n",
       "    }\n",
       "</style>\n",
       "<table border=\"1\" class=\"dataframe\">\n",
       "  <thead>\n",
       "    <tr style=\"text-align: right;\">\n",
       "      <th></th>\n",
       "      <th>Open</th>\n",
       "      <th>High</th>\n",
       "      <th>Low</th>\n",
       "      <th>Close</th>\n",
       "      <th>Volume</th>\n",
       "    </tr>\n",
       "    <tr>\n",
       "      <th>SPY</th>\n",
       "      <th></th>\n",
       "      <th></th>\n",
       "      <th></th>\n",
       "      <th></th>\n",
       "      <th></th>\n",
       "    </tr>\n",
       "  </thead>\n",
       "  <tbody>\n",
       "    <tr>\n",
       "      <th>2021-12-27</th>\n",
       "      <td>472.06</td>\n",
       "      <td>477.31</td>\n",
       "      <td>472.0100</td>\n",
       "      <td>477.26</td>\n",
       "      <td>56808619.0</td>\n",
       "    </tr>\n",
       "    <tr>\n",
       "      <th>2021-12-28</th>\n",
       "      <td>477.72</td>\n",
       "      <td>478.81</td>\n",
       "      <td>476.0600</td>\n",
       "      <td>476.87</td>\n",
       "      <td>46974585.0</td>\n",
       "    </tr>\n",
       "    <tr>\n",
       "      <th>2021-12-29</th>\n",
       "      <td>476.98</td>\n",
       "      <td>478.56</td>\n",
       "      <td>475.9200</td>\n",
       "      <td>477.48</td>\n",
       "      <td>54091464.0</td>\n",
       "    </tr>\n",
       "    <tr>\n",
       "      <th>2021-12-30</th>\n",
       "      <td>477.93</td>\n",
       "      <td>479.00</td>\n",
       "      <td>475.6700</td>\n",
       "      <td>476.16</td>\n",
       "      <td>55329041.0</td>\n",
       "    </tr>\n",
       "    <tr>\n",
       "      <th>2021-12-31</th>\n",
       "      <td>475.64</td>\n",
       "      <td>476.86</td>\n",
       "      <td>474.6700</td>\n",
       "      <td>474.96</td>\n",
       "      <td>64917431.0</td>\n",
       "    </tr>\n",
       "    <tr>\n",
       "      <th>...</th>\n",
       "      <td>...</td>\n",
       "      <td>...</td>\n",
       "      <td>...</td>\n",
       "      <td>...</td>\n",
       "      <td>...</td>\n",
       "    </tr>\n",
       "    <tr>\n",
       "      <th>2023-07-26</th>\n",
       "      <td>454.47</td>\n",
       "      <td>456.99</td>\n",
       "      <td>453.3800</td>\n",
       "      <td>455.51</td>\n",
       "      <td>70897885.0</td>\n",
       "    </tr>\n",
       "    <tr>\n",
       "      <th>2023-07-27</th>\n",
       "      <td>459.02</td>\n",
       "      <td>459.44</td>\n",
       "      <td>451.5500</td>\n",
       "      <td>452.49</td>\n",
       "      <td>92090375.0</td>\n",
       "    </tr>\n",
       "    <tr>\n",
       "      <th>2023-07-28</th>\n",
       "      <td>455.88</td>\n",
       "      <td>457.78</td>\n",
       "      <td>452.4918</td>\n",
       "      <td>456.92</td>\n",
       "      <td>80001790.0</td>\n",
       "    </tr>\n",
       "    <tr>\n",
       "      <th>2023-07-31</th>\n",
       "      <td>457.41</td>\n",
       "      <td>458.16</td>\n",
       "      <td>456.0450</td>\n",
       "      <td>457.79</td>\n",
       "      <td>61970449.0</td>\n",
       "    </tr>\n",
       "    <tr>\n",
       "      <th>2023-08-01</th>\n",
       "      <td>456.27</td>\n",
       "      <td>457.25</td>\n",
       "      <td>455.4900</td>\n",
       "      <td>456.48</td>\n",
       "      <td>55478674.0</td>\n",
       "    </tr>\n",
       "  </tbody>\n",
       "</table>\n",
       "<p>401 rows × 5 columns</p>\n",
       "</div>"
      ],
      "text/plain": [
       "              Open    High       Low   Close      Volume\n",
       "SPY                                                     \n",
       "2021-12-27  472.06  477.31  472.0100  477.26  56808619.0\n",
       "2021-12-28  477.72  478.81  476.0600  476.87  46974585.0\n",
       "2021-12-29  476.98  478.56  475.9200  477.48  54091464.0\n",
       "2021-12-30  477.93  479.00  475.6700  476.16  55329041.0\n",
       "2021-12-31  475.64  476.86  474.6700  474.96  64917431.0\n",
       "...            ...     ...       ...     ...         ...\n",
       "2023-07-26  454.47  456.99  453.3800  455.51  70897885.0\n",
       "2023-07-27  459.02  459.44  451.5500  452.49  92090375.0\n",
       "2023-07-28  455.88  457.78  452.4918  456.92  80001790.0\n",
       "2023-07-31  457.41  458.16  456.0450  457.79  61970449.0\n",
       "2023-08-01  456.27  457.25  455.4900  456.48  55478674.0\n",
       "\n",
       "[401 rows x 5 columns]"
      ]
     },
     "execution_count": 9,
     "metadata": {},
     "output_type": "execute_result"
    }
   ],
   "source": [
    "spy"
   ]
  },
  {
   "cell_type": "code",
   "execution_count": 10,
   "metadata": {},
   "outputs": [
    {
     "data": {
      "text/plain": [
       "Timestamp('2022-03-02 00:00:00')"
      ]
     },
     "execution_count": 10,
     "metadata": {},
     "output_type": "execute_result"
    },
    {
     "data": {
      "text/plain": [
       "Timestamp('2022-01-01 00:00:00')"
      ]
     },
     "execution_count": 10,
     "metadata": {},
     "output_type": "execute_result"
    }
   ],
   "source": [
    "xdt = opchain.expirations.index[0]\n",
    "xdt\n",
    "xdt + datetime.timedelta(days=-60)"
   ]
  },
  {
   "cell_type": "code",
   "execution_count": 12,
   "metadata": {},
   "outputs": [
    {
     "data": {
      "text/html": [
       "<div>\n",
       "<style scoped>\n",
       "    .dataframe tbody tr th:only-of-type {\n",
       "        vertical-align: middle;\n",
       "    }\n",
       "\n",
       "    .dataframe tbody tr th {\n",
       "        vertical-align: top;\n",
       "    }\n",
       "\n",
       "    .dataframe thead th {\n",
       "        text-align: right;\n",
       "    }\n",
       "</style>\n",
       "<table border=\"1\" class=\"dataframe\">\n",
       "  <thead>\n",
       "    <tr style=\"text-align: right;\">\n",
       "      <th></th>\n",
       "      <th>Strike</th>\n",
       "    </tr>\n",
       "    <tr>\n",
       "      <th>Strike</th>\n",
       "      <th></th>\n",
       "    </tr>\n",
       "  </thead>\n",
       "  <tbody>\n",
       "    <tr>\n",
       "      <th>285.0</th>\n",
       "      <td>285.0</td>\n",
       "    </tr>\n",
       "    <tr>\n",
       "      <th>290.0</th>\n",
       "      <td>290.0</td>\n",
       "    </tr>\n",
       "    <tr>\n",
       "      <th>295.0</th>\n",
       "      <td>295.0</td>\n",
       "    </tr>\n",
       "    <tr>\n",
       "      <th>300.0</th>\n",
       "      <td>300.0</td>\n",
       "    </tr>\n",
       "    <tr>\n",
       "      <th>305.0</th>\n",
       "      <td>305.0</td>\n",
       "    </tr>\n",
       "    <tr>\n",
       "      <th>...</th>\n",
       "      <td>...</td>\n",
       "    </tr>\n",
       "    <tr>\n",
       "      <th>520.0</th>\n",
       "      <td>520.0</td>\n",
       "    </tr>\n",
       "    <tr>\n",
       "      <th>525.0</th>\n",
       "      <td>525.0</td>\n",
       "    </tr>\n",
       "    <tr>\n",
       "      <th>530.0</th>\n",
       "      <td>530.0</td>\n",
       "    </tr>\n",
       "    <tr>\n",
       "      <th>535.0</th>\n",
       "      <td>535.0</td>\n",
       "    </tr>\n",
       "    <tr>\n",
       "      <th>540.0</th>\n",
       "      <td>540.0</td>\n",
       "    </tr>\n",
       "  </tbody>\n",
       "</table>\n",
       "<p>170 rows × 1 columns</p>\n",
       "</div>"
      ],
      "text/plain": [
       "        Strike\n",
       "Strike        \n",
       "285.0    285.0\n",
       "290.0    290.0\n",
       "295.0    295.0\n",
       "300.0    300.0\n",
       "305.0    305.0\n",
       "...        ...\n",
       "520.0    520.0\n",
       "525.0    525.0\n",
       "530.0    530.0\n",
       "535.0    535.0\n",
       "540.0    540.0\n",
       "\n",
       "[170 rows x 1 columns]"
      ]
     },
     "execution_count": 12,
     "metadata": {},
     "output_type": "execute_result"
    }
   ],
   "source": [
    "opchain.strikes[str(xdt.date())]"
   ]
  },
  {
   "cell_type": "code",
   "execution_count": 13,
   "metadata": {},
   "outputs": [
    {
     "data": {
      "text/plain": [
       "453.0"
      ]
     },
     "execution_count": 13,
     "metadata": {},
     "output_type": "execute_result"
    }
   ],
   "source": [
    "strikes = opchain.strikes[str(xdt.date())]\n",
    "strikes.loc[450:].iloc[3][0]"
   ]
  },
  {
   "cell_type": "code",
   "execution_count": 16,
   "metadata": {
    "scrolled": false
   },
   "outputs": [
    {
     "name": "stdout",
     "output_type": "stream",
     "text": [
      "\n",
      "\n",
      "=== 2022-03-02 00:00:00 ===\n"
     ]
    },
    {
     "data": {
      "text/plain": [
       "154"
      ]
     },
     "execution_count": 16,
     "metadata": {},
     "output_type": "execute_result"
    },
    {
     "name": "stdout",
     "output_type": "stream",
     "text": [
      "O:SPY220302P00445000\n",
      "\n",
      "\n",
      "=== 2022-03-04 00:00:00 ===\n"
     ]
    },
    {
     "data": {
      "text/plain": [
       "154"
      ]
     },
     "execution_count": 16,
     "metadata": {},
     "output_type": "execute_result"
    },
    {
     "name": "stdout",
     "output_type": "stream",
     "text": [
      "O:SPY220304P00445000\n"
     ]
    }
   ],
   "source": [
    "jj=0\n",
    "for xdt in opchain.expirations.index:\n",
    "    print('\\n\\n===',xdt,'===')\n",
    "    sdt = xdt - pd.Timedelta(days=60)\n",
    "    edt = xdt + pd.Timedelta(days=1)\n",
    "    pxs = spy.loc[sdt:edt]\n",
    "    hi = max(pxs.High)\n",
    "    lo = min(pxs.Low)\n",
    "    strikes = opchain.strikes[str(xdt.date())]\n",
    "    shi = strikes.loc[hi:].iloc[3][0]\n",
    "    #print('hi=',hi,'shi=',shi)\n",
    "    slo = strikes.loc[:lo].iloc[-4][0]\n",
    "    #print('lo=',lo,'slo=',slo)\n",
    "    relevant_stikes = strikes[slo:shi]\n",
    "\n",
    "    tickers = opchain.tickers.loc[(str(xdt.date()),slo):(str(xdt.date()),shi)].Ticker.values\n",
    "    len(tickers)\n",
    "    midtkr = tickers[int(len(tickers)/2)]\n",
    "    print(midtkr)\n",
    "    jj += 1\n",
    "    if jj > 1: break"
   ]
  },
  {
   "cell_type": "code",
   "execution_count": 76,
   "metadata": {},
   "outputs": [],
   "source": [
    "str_date = '2023-08-09'\n",
    "ts1 = str(int(pd.Timestamp(str_date+' 09:30',tz='US/Eastern').tz_convert('UTC').timestamp()*(10**9)))"
   ]
  },
  {
   "cell_type": "code",
   "execution_count": 78,
   "metadata": {},
   "outputs": [
    {
     "data": {
      "text/plain": [
       "1691587800000000000"
      ]
     },
     "execution_count": 78,
     "metadata": {},
     "output_type": "execute_result"
    }
   ],
   "source": [
    "int(ts1)"
   ]
  },
  {
   "cell_type": "code",
   "execution_count": 86,
   "metadata": {},
   "outputs": [],
   "source": [
    "ts = pd.Timestamp(int(ts1))"
   ]
  },
  {
   "cell_type": "code",
   "execution_count": 88,
   "metadata": {},
   "outputs": [
    {
     "data": {
      "text/plain": [
       "Timestamp('2023-08-09 13:30:00')"
      ]
     },
     "execution_count": 88,
     "metadata": {},
     "output_type": "execute_result"
    },
    {
     "data": {
      "text/plain": [
       "'2023-08-09 13:30:00'"
      ]
     },
     "execution_count": 88,
     "metadata": {},
     "output_type": "execute_result"
    }
   ],
   "source": [
    "ts\n",
    "str(ts)"
   ]
  },
  {
   "cell_type": "code",
   "execution_count": null,
   "metadata": {},
   "outputs": [],
   "source": []
  },
  {
   "cell_type": "code",
   "execution_count": null,
   "metadata": {},
   "outputs": [],
   "source": []
  },
  {
   "cell_type": "code",
   "execution_count": 6,
   "metadata": {},
   "outputs": [
    {
     "name": "stdout",
     "output_type": "stream",
     "text": [
      "Requesting quote data for \"O:SPY230818P00450000\"\n",
      " from 2023-08-09 13:30:00  to  2023-08-09 20:00:00 UTC\n",
      "req=\n",
      " https://api.polygon.io/v3/quotes/O:SPY230818P00450000?timestamp.gte=1691587800000000000&timestamp.lte=1691611200000000000&limit=50000&apiKey=***\n",
      "response status: OK\n",
      "received 50000 quotes so far ...\n",
      "getting next_url ... response status: OK  received 100000 quotes so far ...\n",
      "getting next_url ... response status: OK  received 150000 quotes so far ...\n",
      "getting next_url ... response status: OK  received 200000 quotes so far ...\n",
      "getting next_url ... response status: OK  received 250000 quotes so far ...\n",
      "getting next_url ... response status: OK  received 296889 quotes.\n",
      "resampling to 1S intervals ...\n",
      "returning 22055 quotes.\n"
     ]
    }
   ],
   "source": [
    "ticker   = 'O:SPY230818P00450000'\n",
    "str_date = '2023-08-09'\n",
    "qdf = polygon.fetch_quotes(ticker,str_date)"
   ]
  },
  {
   "cell_type": "code",
   "execution_count": 7,
   "metadata": {},
   "outputs": [],
   "source": [
    "qdf.to_csv('temp.csv.gz')\n",
    "qdf.to_csv('temp.csv')"
   ]
  },
  {
   "cell_type": "code",
   "execution_count": 8,
   "metadata": {},
   "outputs": [
    {
     "name": "stdout",
     "output_type": "stream",
     "text": [
      "-rw-r--r-- 1 dino dino 1366892 Aug 11 15:38 temp.csv\r\n",
      "-rw-r--r-- 1 dino dino  316895 Aug 11 15:38 \u001b[0m\u001b[01;31mtemp.csv.gz\u001b[0m\r\n"
     ]
    }
   ],
   "source": [
    "%ls -l temp*"
   ]
  },
  {
   "cell_type": "code",
   "execution_count": 9,
   "metadata": {},
   "outputs": [
    {
     "name": "stdout",
     "output_type": "stream",
     "text": [
      "Timestamp,Ask,AsizeA,AsizeM,AsizeH,AsizeL,Bid,BsizeA,BsizeM,BsizeH,BsizeL,Count\r\n",
      "2023-08-09 09:30:00,3.91,78,40,246,5,3.89,46,50,128,5,19\r\n",
      "2023-08-09 09:30:01,3.9,75,59,109,40,3.88,68,64,109,1,8\r\n",
      "2023-08-09 09:30:02,3.89,103,110,215,1,3.87,98,110,129,19,11\r\n",
      "2023-08-09 09:30:03,3.9,110,109,259,1,3.88,116,129,129,45,15\r\n",
      "2023-08-09 09:30:04,3.9,115,110,236,1,3.88,110,129,129,1,26\r\n",
      "2023-08-09 09:30:05,3.89,41,2,190,1,3.88,102,129,129,5,9\r\n",
      "2023-08-09 09:30:06,3.91,75,59,202,1,3.9,97,116,129,1,14\r\n",
      "2023-08-09 09:30:07,3.92,153,200,311,1,3.9,130,129,349,1,19\r\n",
      "2023-08-09 09:30:08,3.91,146,137,311,2,3.89,146,110,330,19,21\r\n"
     ]
    }
   ],
   "source": [
    "!head temp.csv"
   ]
  },
  {
   "cell_type": "code",
   "execution_count": 10,
   "metadata": {},
   "outputs": [],
   "source": [
    "qdf2 = pd.read_csv('temp.csv.gz',index_col='Timestamp',parse_dates=True)"
   ]
  },
  {
   "cell_type": "code",
   "execution_count": 11,
   "metadata": {},
   "outputs": [
    {
     "data": {
      "text/html": [
       "<div>\n",
       "<style scoped>\n",
       "    .dataframe tbody tr th:only-of-type {\n",
       "        vertical-align: middle;\n",
       "    }\n",
       "\n",
       "    .dataframe tbody tr th {\n",
       "        vertical-align: top;\n",
       "    }\n",
       "\n",
       "    .dataframe thead th {\n",
       "        text-align: right;\n",
       "    }\n",
       "</style>\n",
       "<table border=\"1\" class=\"dataframe\">\n",
       "  <thead>\n",
       "    <tr style=\"text-align: right;\">\n",
       "      <th></th>\n",
       "      <th>Ask</th>\n",
       "      <th>AsizeA</th>\n",
       "      <th>AsizeM</th>\n",
       "      <th>AsizeH</th>\n",
       "      <th>AsizeL</th>\n",
       "      <th>Bid</th>\n",
       "      <th>BsizeA</th>\n",
       "      <th>BsizeM</th>\n",
       "      <th>BsizeH</th>\n",
       "      <th>BsizeL</th>\n",
       "      <th>Count</th>\n",
       "    </tr>\n",
       "    <tr>\n",
       "      <th>Timestamp</th>\n",
       "      <th></th>\n",
       "      <th></th>\n",
       "      <th></th>\n",
       "      <th></th>\n",
       "      <th></th>\n",
       "      <th></th>\n",
       "      <th></th>\n",
       "      <th></th>\n",
       "      <th></th>\n",
       "      <th></th>\n",
       "      <th></th>\n",
       "    </tr>\n",
       "  </thead>\n",
       "  <tbody>\n",
       "    <tr>\n",
       "      <th>2023-08-09 09:30:00</th>\n",
       "      <td>3.91</td>\n",
       "      <td>78</td>\n",
       "      <td>40</td>\n",
       "      <td>246</td>\n",
       "      <td>5</td>\n",
       "      <td>3.89</td>\n",
       "      <td>46</td>\n",
       "      <td>50</td>\n",
       "      <td>128</td>\n",
       "      <td>5</td>\n",
       "      <td>19</td>\n",
       "    </tr>\n",
       "    <tr>\n",
       "      <th>2023-08-09 09:30:01</th>\n",
       "      <td>3.90</td>\n",
       "      <td>75</td>\n",
       "      <td>59</td>\n",
       "      <td>109</td>\n",
       "      <td>40</td>\n",
       "      <td>3.88</td>\n",
       "      <td>68</td>\n",
       "      <td>64</td>\n",
       "      <td>109</td>\n",
       "      <td>1</td>\n",
       "      <td>8</td>\n",
       "    </tr>\n",
       "    <tr>\n",
       "      <th>2023-08-09 09:30:02</th>\n",
       "      <td>3.89</td>\n",
       "      <td>103</td>\n",
       "      <td>110</td>\n",
       "      <td>215</td>\n",
       "      <td>1</td>\n",
       "      <td>3.87</td>\n",
       "      <td>98</td>\n",
       "      <td>110</td>\n",
       "      <td>129</td>\n",
       "      <td>19</td>\n",
       "      <td>11</td>\n",
       "    </tr>\n",
       "  </tbody>\n",
       "</table>\n",
       "</div>"
      ],
      "text/plain": [
       "                      Ask  AsizeA  AsizeM  AsizeH  AsizeL   Bid  BsizeA  \\\n",
       "Timestamp                                                                 \n",
       "2023-08-09 09:30:00  3.91      78      40     246       5  3.89      46   \n",
       "2023-08-09 09:30:01  3.90      75      59     109      40  3.88      68   \n",
       "2023-08-09 09:30:02  3.89     103     110     215       1  3.87      98   \n",
       "\n",
       "                     BsizeM  BsizeH  BsizeL  Count  \n",
       "Timestamp                                           \n",
       "2023-08-09 09:30:00      50     128       5     19  \n",
       "2023-08-09 09:30:01      64     109       1      8  \n",
       "2023-08-09 09:30:02     110     129      19     11  "
      ]
     },
     "execution_count": 11,
     "metadata": {},
     "output_type": "execute_result"
    },
    {
     "data": {
      "text/html": [
       "<div>\n",
       "<style scoped>\n",
       "    .dataframe tbody tr th:only-of-type {\n",
       "        vertical-align: middle;\n",
       "    }\n",
       "\n",
       "    .dataframe tbody tr th {\n",
       "        vertical-align: top;\n",
       "    }\n",
       "\n",
       "    .dataframe thead th {\n",
       "        text-align: right;\n",
       "    }\n",
       "</style>\n",
       "<table border=\"1\" class=\"dataframe\">\n",
       "  <thead>\n",
       "    <tr style=\"text-align: right;\">\n",
       "      <th></th>\n",
       "      <th>Ask</th>\n",
       "      <th>AsizeA</th>\n",
       "      <th>AsizeM</th>\n",
       "      <th>AsizeH</th>\n",
       "      <th>AsizeL</th>\n",
       "      <th>Bid</th>\n",
       "      <th>BsizeA</th>\n",
       "      <th>BsizeM</th>\n",
       "      <th>BsizeH</th>\n",
       "      <th>BsizeL</th>\n",
       "      <th>Count</th>\n",
       "    </tr>\n",
       "    <tr>\n",
       "      <th>Timestamp</th>\n",
       "      <th></th>\n",
       "      <th></th>\n",
       "      <th></th>\n",
       "      <th></th>\n",
       "      <th></th>\n",
       "      <th></th>\n",
       "      <th></th>\n",
       "      <th></th>\n",
       "      <th></th>\n",
       "      <th></th>\n",
       "      <th></th>\n",
       "    </tr>\n",
       "  </thead>\n",
       "  <tbody>\n",
       "    <tr>\n",
       "      <th>2023-08-09 09:30:00</th>\n",
       "      <td>3.91</td>\n",
       "      <td>78</td>\n",
       "      <td>40</td>\n",
       "      <td>246</td>\n",
       "      <td>5</td>\n",
       "      <td>3.89</td>\n",
       "      <td>46</td>\n",
       "      <td>50</td>\n",
       "      <td>128</td>\n",
       "      <td>5</td>\n",
       "      <td>19</td>\n",
       "    </tr>\n",
       "    <tr>\n",
       "      <th>2023-08-09 09:30:01</th>\n",
       "      <td>3.90</td>\n",
       "      <td>75</td>\n",
       "      <td>59</td>\n",
       "      <td>109</td>\n",
       "      <td>40</td>\n",
       "      <td>3.88</td>\n",
       "      <td>68</td>\n",
       "      <td>64</td>\n",
       "      <td>109</td>\n",
       "      <td>1</td>\n",
       "      <td>8</td>\n",
       "    </tr>\n",
       "    <tr>\n",
       "      <th>2023-08-09 09:30:02</th>\n",
       "      <td>3.89</td>\n",
       "      <td>103</td>\n",
       "      <td>110</td>\n",
       "      <td>215</td>\n",
       "      <td>1</td>\n",
       "      <td>3.87</td>\n",
       "      <td>98</td>\n",
       "      <td>110</td>\n",
       "      <td>129</td>\n",
       "      <td>19</td>\n",
       "      <td>11</td>\n",
       "    </tr>\n",
       "  </tbody>\n",
       "</table>\n",
       "</div>"
      ],
      "text/plain": [
       "                      Ask  AsizeA  AsizeM  AsizeH  AsizeL   Bid  BsizeA  \\\n",
       "Timestamp                                                                 \n",
       "2023-08-09 09:30:00  3.91      78      40     246       5  3.89      46   \n",
       "2023-08-09 09:30:01  3.90      75      59     109      40  3.88      68   \n",
       "2023-08-09 09:30:02  3.89     103     110     215       1  3.87      98   \n",
       "\n",
       "                     BsizeM  BsizeH  BsizeL  Count  \n",
       "Timestamp                                           \n",
       "2023-08-09 09:30:00      50     128       5     19  \n",
       "2023-08-09 09:30:01      64     109       1      8  \n",
       "2023-08-09 09:30:02     110     129      19     11  "
      ]
     },
     "execution_count": 11,
     "metadata": {},
     "output_type": "execute_result"
    },
    {
     "data": {
      "text/html": [
       "<div>\n",
       "<style scoped>\n",
       "    .dataframe tbody tr th:only-of-type {\n",
       "        vertical-align: middle;\n",
       "    }\n",
       "\n",
       "    .dataframe tbody tr th {\n",
       "        vertical-align: top;\n",
       "    }\n",
       "\n",
       "    .dataframe thead th {\n",
       "        text-align: right;\n",
       "    }\n",
       "</style>\n",
       "<table border=\"1\" class=\"dataframe\">\n",
       "  <thead>\n",
       "    <tr style=\"text-align: right;\">\n",
       "      <th></th>\n",
       "      <th>Ask</th>\n",
       "      <th>AsizeA</th>\n",
       "      <th>AsizeM</th>\n",
       "      <th>AsizeH</th>\n",
       "      <th>AsizeL</th>\n",
       "      <th>Bid</th>\n",
       "      <th>BsizeA</th>\n",
       "      <th>BsizeM</th>\n",
       "      <th>BsizeH</th>\n",
       "      <th>BsizeL</th>\n",
       "      <th>Count</th>\n",
       "    </tr>\n",
       "    <tr>\n",
       "      <th>Timestamp</th>\n",
       "      <th></th>\n",
       "      <th></th>\n",
       "      <th></th>\n",
       "      <th></th>\n",
       "      <th></th>\n",
       "      <th></th>\n",
       "      <th></th>\n",
       "      <th></th>\n",
       "      <th></th>\n",
       "      <th></th>\n",
       "      <th></th>\n",
       "    </tr>\n",
       "  </thead>\n",
       "  <tbody>\n",
       "    <tr>\n",
       "      <th>2023-08-09 15:59:57</th>\n",
       "      <td>5.86</td>\n",
       "      <td>37</td>\n",
       "      <td>47</td>\n",
       "      <td>73</td>\n",
       "      <td>1</td>\n",
       "      <td>5.83</td>\n",
       "      <td>200</td>\n",
       "      <td>247</td>\n",
       "      <td>294</td>\n",
       "      <td>30</td>\n",
       "      <td>36</td>\n",
       "    </tr>\n",
       "    <tr>\n",
       "      <th>2023-08-09 15:59:58</th>\n",
       "      <td>5.88</td>\n",
       "      <td>42</td>\n",
       "      <td>47</td>\n",
       "      <td>169</td>\n",
       "      <td>1</td>\n",
       "      <td>5.85</td>\n",
       "      <td>112</td>\n",
       "      <td>98</td>\n",
       "      <td>246</td>\n",
       "      <td>1</td>\n",
       "      <td>26</td>\n",
       "    </tr>\n",
       "    <tr>\n",
       "      <th>2023-08-09 15:59:59</th>\n",
       "      <td>5.90</td>\n",
       "      <td>97</td>\n",
       "      <td>62</td>\n",
       "      <td>248</td>\n",
       "      <td>46</td>\n",
       "      <td>5.87</td>\n",
       "      <td>128</td>\n",
       "      <td>62</td>\n",
       "      <td>327</td>\n",
       "      <td>1</td>\n",
       "      <td>34</td>\n",
       "    </tr>\n",
       "  </tbody>\n",
       "</table>\n",
       "</div>"
      ],
      "text/plain": [
       "                      Ask  AsizeA  AsizeM  AsizeH  AsizeL   Bid  BsizeA  \\\n",
       "Timestamp                                                                 \n",
       "2023-08-09 15:59:57  5.86      37      47      73       1  5.83     200   \n",
       "2023-08-09 15:59:58  5.88      42      47     169       1  5.85     112   \n",
       "2023-08-09 15:59:59  5.90      97      62     248      46  5.87     128   \n",
       "\n",
       "                     BsizeM  BsizeH  BsizeL  Count  \n",
       "Timestamp                                           \n",
       "2023-08-09 15:59:57     247     294      30     36  \n",
       "2023-08-09 15:59:58      98     246       1     26  \n",
       "2023-08-09 15:59:59      62     327       1     34  "
      ]
     },
     "execution_count": 11,
     "metadata": {},
     "output_type": "execute_result"
    },
    {
     "data": {
      "text/html": [
       "<div>\n",
       "<style scoped>\n",
       "    .dataframe tbody tr th:only-of-type {\n",
       "        vertical-align: middle;\n",
       "    }\n",
       "\n",
       "    .dataframe tbody tr th {\n",
       "        vertical-align: top;\n",
       "    }\n",
       "\n",
       "    .dataframe thead th {\n",
       "        text-align: right;\n",
       "    }\n",
       "</style>\n",
       "<table border=\"1\" class=\"dataframe\">\n",
       "  <thead>\n",
       "    <tr style=\"text-align: right;\">\n",
       "      <th></th>\n",
       "      <th>Ask</th>\n",
       "      <th>AsizeA</th>\n",
       "      <th>AsizeM</th>\n",
       "      <th>AsizeH</th>\n",
       "      <th>AsizeL</th>\n",
       "      <th>Bid</th>\n",
       "      <th>BsizeA</th>\n",
       "      <th>BsizeM</th>\n",
       "      <th>BsizeH</th>\n",
       "      <th>BsizeL</th>\n",
       "      <th>Count</th>\n",
       "    </tr>\n",
       "    <tr>\n",
       "      <th>Timestamp</th>\n",
       "      <th></th>\n",
       "      <th></th>\n",
       "      <th></th>\n",
       "      <th></th>\n",
       "      <th></th>\n",
       "      <th></th>\n",
       "      <th></th>\n",
       "      <th></th>\n",
       "      <th></th>\n",
       "      <th></th>\n",
       "      <th></th>\n",
       "    </tr>\n",
       "  </thead>\n",
       "  <tbody>\n",
       "    <tr>\n",
       "      <th>2023-08-09 15:59:57</th>\n",
       "      <td>5.86</td>\n",
       "      <td>37</td>\n",
       "      <td>47</td>\n",
       "      <td>73</td>\n",
       "      <td>1</td>\n",
       "      <td>5.83</td>\n",
       "      <td>200</td>\n",
       "      <td>247</td>\n",
       "      <td>294</td>\n",
       "      <td>30</td>\n",
       "      <td>36</td>\n",
       "    </tr>\n",
       "    <tr>\n",
       "      <th>2023-08-09 15:59:58</th>\n",
       "      <td>5.88</td>\n",
       "      <td>42</td>\n",
       "      <td>47</td>\n",
       "      <td>169</td>\n",
       "      <td>1</td>\n",
       "      <td>5.85</td>\n",
       "      <td>112</td>\n",
       "      <td>98</td>\n",
       "      <td>246</td>\n",
       "      <td>1</td>\n",
       "      <td>26</td>\n",
       "    </tr>\n",
       "    <tr>\n",
       "      <th>2023-08-09 15:59:59</th>\n",
       "      <td>5.90</td>\n",
       "      <td>97</td>\n",
       "      <td>62</td>\n",
       "      <td>248</td>\n",
       "      <td>46</td>\n",
       "      <td>5.87</td>\n",
       "      <td>128</td>\n",
       "      <td>62</td>\n",
       "      <td>327</td>\n",
       "      <td>1</td>\n",
       "      <td>34</td>\n",
       "    </tr>\n",
       "  </tbody>\n",
       "</table>\n",
       "</div>"
      ],
      "text/plain": [
       "                      Ask  AsizeA  AsizeM  AsizeH  AsizeL   Bid  BsizeA  \\\n",
       "Timestamp                                                                 \n",
       "2023-08-09 15:59:57  5.86      37      47      73       1  5.83     200   \n",
       "2023-08-09 15:59:58  5.88      42      47     169       1  5.85     112   \n",
       "2023-08-09 15:59:59  5.90      97      62     248      46  5.87     128   \n",
       "\n",
       "                     BsizeM  BsizeH  BsizeL  Count  \n",
       "Timestamp                                           \n",
       "2023-08-09 15:59:57     247     294      30     36  \n",
       "2023-08-09 15:59:58      98     246       1     26  \n",
       "2023-08-09 15:59:59      62     327       1     34  "
      ]
     },
     "execution_count": 11,
     "metadata": {},
     "output_type": "execute_result"
    }
   ],
   "source": [
    " qdf.head(3)\n",
    "qdf2.head(3)\n",
    " qdf.tail(3)\n",
    "qdf2.tail(3)"
   ]
  },
  {
   "cell_type": "code",
   "execution_count": 12,
   "metadata": {
    "scrolled": true
   },
   "outputs": [
    {
     "data": {
      "text/plain": [
       "True"
      ]
     },
     "execution_count": 12,
     "metadata": {},
     "output_type": "execute_result"
    },
    {
     "data": {
      "text/plain": [
       "True"
      ]
     },
     "execution_count": 12,
     "metadata": {},
     "output_type": "execute_result"
    },
    {
     "data": {
      "text/plain": [
       "True"
      ]
     },
     "execution_count": 12,
     "metadata": {},
     "output_type": "execute_result"
    },
    {
     "data": {
      "text/plain": [
       "True"
      ]
     },
     "execution_count": 12,
     "metadata": {},
     "output_type": "execute_result"
    },
    {
     "data": {
      "text/plain": [
       "pandas.core.indexes.datetimes.DatetimeIndex"
      ]
     },
     "execution_count": 12,
     "metadata": {},
     "output_type": "execute_result"
    },
    {
     "data": {
      "text/plain": [
       "pandas.core.indexes.datetimes.DatetimeIndex"
      ]
     },
     "execution_count": 12,
     "metadata": {},
     "output_type": "execute_result"
    },
    {
     "data": {
      "text/plain": [
       "True"
      ]
     },
     "execution_count": 12,
     "metadata": {},
     "output_type": "execute_result"
    }
   ],
   "source": [
    "all(qdf.columns == qdf2.columns)\n",
    "qdf.index.name == qdf2.index.name\n",
    "\n",
    "len(qdf) == len(qdf2)\n",
    "all(qdf.index == qdf2.index)\n",
    "\n",
    "type(qdf.index)\n",
    "type(qdf2.index)\n",
    "\n",
    "all(qdf == qdf2)"
   ]
  },
  {
   "cell_type": "code",
   "execution_count": null,
   "metadata": {},
   "outputs": [],
   "source": []
  },
  {
   "cell_type": "code",
   "execution_count": null,
   "metadata": {},
   "outputs": [],
   "source": []
  },
  {
   "cell_type": "code",
   "execution_count": null,
   "metadata": {},
   "outputs": [],
   "source": []
  },
  {
   "cell_type": "code",
   "execution_count": null,
   "metadata": {},
   "outputs": [],
   "source": []
  },
  {
   "cell_type": "code",
   "execution_count": null,
   "metadata": {},
   "outputs": [],
   "source": []
  },
  {
   "cell_type": "code",
   "execution_count": null,
   "metadata": {},
   "outputs": [],
   "source": [
    "STOP HERE STOP HERE STOP HERE"
   ]
  },
  {
   "cell_type": "code",
   "execution_count": null,
   "metadata": {},
   "outputs": [],
   "source": []
  },
  {
   "cell_type": "code",
   "execution_count": null,
   "metadata": {},
   "outputs": [],
   "source": [
    "print('''\n",
    "\n",
    "     Keep this for now.  Not sure if still useful.\n",
    "\n",
    "''')\n",
    "\n",
    "def polygon_option_chain_to_df(results):\n",
    "    d   = pd.json_normalize(results,sep=':').to_dict()\n",
    "    tdf = pd.DataFrame(d)\n",
    "    tdf.drop(['day:change','day:change_percent','details:exercise_style',\n",
    "              'details:shares_per_contract','underlying_asset:ticker'],\n",
    "             axis=1,errors='ignore',inplace=True)\n",
    "    newcols = []\n",
    "    for col in tdf.columns:\n",
    "        newcols.append(col.split(':')[-1])\n",
    "    tdf.columns = newcols\n",
    "    column_mappings = {'ticker':'Ticker',\n",
    "                        'open_interest':'OI',\n",
    "                        'close':'Close',\n",
    "                        'high':'High',\n",
    "                        'last_updated':'Timestamp',\n",
    "                        'low':'Low',\n",
    "                        'open':'Open',\n",
    "                        'previous_close':'PrevClose',\n",
    "                        'volume':'Volume',\n",
    "                        'vwap': 'VWAP',\n",
    "                        'contract_type':'PC',\n",
    "                        'expiration_date':'Expiration',\n",
    "                        'strike_price':'Strike',\n",
    "                       }\n",
    "    tdf.rename(columns=column_mappings,inplace=True)\n",
    "    tdf.set_index('Ticker',inplace=True)\n",
    "    return tdf"
   ]
  },
  {
   "cell_type": "code",
   "execution_count": null,
   "metadata": {},
   "outputs": [],
   "source": []
  },
  {
   "cell_type": "code",
   "execution_count": null,
   "metadata": {},
   "outputs": [],
   "source": []
  },
  {
   "cell_type": "code",
   "execution_count": null,
   "metadata": {},
   "outputs": [],
   "source": []
  }
 ],
 "metadata": {
  "kernelspec": {
   "display_name": "Python 3 (ipykernel)",
   "language": "python",
   "name": "python3"
  },
  "language_info": {
   "codemirror_mode": {
    "name": "ipython",
    "version": 3
   },
   "file_extension": ".py",
   "mimetype": "text/x-python",
   "name": "python",
   "nbconvert_exporter": "python",
   "pygments_lexer": "ipython3",
   "version": "3.10.10"
  }
 },
 "nbformat": 4,
 "nbformat_minor": 4
}
